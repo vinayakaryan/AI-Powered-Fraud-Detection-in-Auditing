{
  "nbformat": 4,
  "nbformat_minor": 0,
  "metadata": {
    "colab": {
      "provenance": []
    },
    "kernelspec": {
      "name": "python3",
      "display_name": "Python 3"
    },
    "language_info": {
      "name": "python"
    }
  },
  "cells": [
    {
      "cell_type": "code",
      "execution_count": 1,
      "metadata": {
        "colab": {
          "base_uri": "https://localhost:8080/"
        },
        "id": "DBiYEAXYq22e",
        "outputId": "f4f5da4b-1757-40bf-87b2-a4e24157ae1a"
      },
      "outputs": [
        {
          "output_type": "stream",
          "name": "stdout",
          "text": [
            "Requirement already satisfied: prettytable in /usr/local/lib/python3.11/dist-packages (3.16.0)\n",
            "Requirement already satisfied: wcwidth in /usr/local/lib/python3.11/dist-packages (from prettytable) (0.2.13)\n"
          ]
        }
      ],
      "source": [
        "!pip install prettytable"
      ]
    },
    {
      "cell_type": "code",
      "source": [
        "import pandas as pd\n",
        "import numpy as np\n",
        "from sklearn.model_selection import train_test_split\n",
        "from sklearn.ensemble import RandomForestClassifier\n",
        "from sklearn.metrics import accuracy_score, precision_score, recall_score, f1_score, roc_auc_score, confusion_matrix\n",
        "from sklearn.preprocessing import StandardScaler, LabelEncoder\n",
        "from prettytable import PrettyTable\n",
        "\n",
        "# Load the dataset\n",
        "df = pd.read_csv('/content/financial_transactions.csv')\n",
        "# Data exploration\n",
        "print(\"Dataset Overview:\")\n",
        "print(df.head())\n",
        "\n",
        "# Preprocess the data\n",
        "df.fillna(method='ffill', inplace=True)\n",
        "\n",
        "# Encode categorical variables\n",
        "label_encoder = LabelEncoder()\n",
        "df['transaction_type'] = label_encoder.fit_transform(df['transaction_type'])\n",
        "\n",
        "# Extract datetime features\n",
        "df['transaction_time'] = pd.to_datetime(df['transaction_time'])\n",
        "df['hour'] = df['transaction_time'].dt.hour\n",
        "df['day'] = df['transaction_time'].dt.day\n",
        "df['month'] = df['transaction_time'].dt.month\n",
        "df['day_of_week'] = df['transaction_time'].dt.dayofweek\n",
        "# Select features and target\n",
        "features = ['amount', 'transaction_type', 'customer_id', 'hour', 'day', 'month', 'day_of_week']\n",
        "X = df[features]\n",
        "y = df['is_fraud']\n",
        "\n",
        "# Normalize numerical features\n",
        "scaler = StandardScaler()\n",
        "X_scaled = scaler.fit_transform(X)\n",
        "\n",
        "# Split the data into training and test sets\n",
        "X_train, X_test, y_train, y_test = train_test_split(X_scaled, y, test_size=0.3, random_state=42)\n",
        "\n",
        "# Train a Random Forest classifier\n",
        "rf_model = RandomForestClassifier(n_estimators=100, random_state=42)\n",
        "rf_model.fit(X_train, y_train)\n",
        "\n",
        "# Evaluate the model\n",
        "y_pred = rf_model.predict(X_test)\n",
        "y_prob = rf_model.predict_proba(X_test)[:, 1]\n",
        "accuracy = accuracy_score(y_test, y_pred)\n",
        "precision = precision_score(y_test, y_pred)\n",
        "recall = recall_score(y_test, y_pred)\n",
        "f1 = f1_score(y_test, y_pred)\n",
        "roc_auc = roc_auc_score(y_test, y_prob)\n",
        "\n",
        "# Display model performance metrics in a table\n",
        "performance_table = PrettyTable()\n",
        "performance_table.field_names = [\"Metric\", \"Value\"]\n",
        "performance_table.add_row([\"Accuracy\", f\"{accuracy:.2f}\"])\n",
        "performance_table.add_row([\"Precision\", f\"{precision:.2f}\"])\n",
        "performance_table.add_row([\"Recall\", f\"{recall:.2f}\"])\n",
        "performance_table.add_row([\"F1-Score\", f\"{f1:.2f}\"])\n",
        "performance_table.add_row([\"ROC AUC Score\", f\"{roc_auc:.2f}\"])\n",
        "\n",
        "print(\"Model Performance Metrics:\")\n",
        "print(performance_table)\n",
        "# Display confusion matrix\n",
        "conf_matrix = confusion_matrix(y_test, y_pred)\n",
        "conf_matrix_table = PrettyTable()\n",
        "conf_matrix_table.field_names = [\"\", \"Predicted Non-Fraud\", \"Predicted Fraud\"]\n",
        "conf_matrix_table.add_row([\"Actual Non-Fraud\", conf_matrix[0, 0], conf_matrix[0, 1]])\n",
        "conf_matrix_table.add_row([\"Actual Fraud\", conf_matrix[1, 0], conf_matrix[1, 1]])\n",
        "\n",
        "print(\"Confusion Matrix:\")\n",
        "print(conf_matrix_table)\n",
        "\n",
        "# Apply the model to new transactions\n",
        "new_transactions = pd.read_csv('/content/financial_transactions.csv')\n",
        "new_transactions['transaction_type'] = label_encoder.transform(new_transactions['transaction_type'])\n",
        "new_transactions['transaction_time'] = pd.to_datetime(new_transactions['transaction_time'])\n",
        "new_transactions['hour'] = new_transactions['transaction_time'].dt.hour\n",
        "new_transactions['day'] = new_transactions['transaction_time'].dt.day\n",
        "new_transactions['month'] = new_transactions['transaction_time'].dt.month\n",
        "new_transactions['day_of_week'] = new_transactions['transaction_time'].dt.dayofweek\n",
        "\n",
        "new_X = new_transactions[features]\n",
        "new_X_scaled = scaler.transform(new_X)\n",
        "\n",
        "# Predict fraud\n",
        "new_transactions['is_fraud'] = rf_model.predict(new_X_scaled)\n",
        "new_transactions['fraud_probability'] = rf_model.predict_proba(new_X_scaled)[:, 1]\n",
        "\n",
        "# Display new transactions with predictions\n",
        "print(\"New Transactions with Fraud Predictions:\")\n",
        "print(new_transactions.head().to_string(index=False))\n",
        "# Save the results to a CSV file\n",
        "new_transactions.to_csv('predicted_fraud_transactions.csv', index=False)"
      ],
      "metadata": {
        "colab": {
          "base_uri": "https://localhost:8080/"
        },
        "id": "hSQzpWFnrEl9",
        "outputId": "8830c959-b5d4-4dbd-be93-e148733580dc"
      },
      "execution_count": 5,
      "outputs": [
        {
          "output_type": "stream",
          "name": "stdout",
          "text": [
            "Dataset Overview:\n",
            "   transaction_id  amount transaction_type  customer_id     transaction_time  \\\n",
            "0               1    1000         Purchase         1001  2023-01-01 10:00:00   \n",
            "1               2    1500         Transfer         1002  2023-01-01 11:00:00   \n",
            "2               3    2000         Purchase         1003  2023-01-01 12:00:00   \n",
            "3               4    3000       Withdrawal         1004  2023-01-01 13:00:00   \n",
            "4               5    5000         Transfer         1005  2023-01-01 14:00:00   \n",
            "\n",
            "   is_fraud  \n",
            "0         0  \n",
            "1         1  \n",
            "2         0  \n",
            "3         0  \n",
            "4         1  \n"
          ]
        },
        {
          "output_type": "stream",
          "name": "stderr",
          "text": [
            "/tmp/ipython-input-5-672649056.py:16: FutureWarning: DataFrame.fillna with 'method' is deprecated and will raise in a future version. Use obj.ffill() or obj.bfill() instead.\n",
            "  df.fillna(method='ffill', inplace=True)\n"
          ]
        },
        {
          "output_type": "stream",
          "name": "stdout",
          "text": [
            "Model Performance Metrics:\n",
            "+---------------+-------+\n",
            "|     Metric    | Value |\n",
            "+---------------+-------+\n",
            "|    Accuracy   |  0.93 |\n",
            "|   Precision   |  0.83 |\n",
            "|     Recall    |  1.00 |\n",
            "|    F1-Score   |  0.91 |\n",
            "| ROC AUC Score |  0.93 |\n",
            "+---------------+-------+\n",
            "Confusion Matrix:\n",
            "+------------------+---------------------+-----------------+\n",
            "|                  | Predicted Non-Fraud | Predicted Fraud |\n",
            "+------------------+---------------------+-----------------+\n",
            "| Actual Non-Fraud |          18         |        2        |\n",
            "|   Actual Fraud   |          0          |        10       |\n",
            "+------------------+---------------------+-----------------+\n",
            "New Transactions with Fraud Predictions:\n",
            " transaction_id  amount  transaction_type  customer_id    transaction_time  is_fraud  hour  day  month  day_of_week  fraud_probability\n",
            "              1    1000                 0         1001 2023-01-01 10:00:00         0    10    1      1            6               0.16\n",
            "              2    1500                 1         1002 2023-01-01 11:00:00         1    11    1      1            6               0.82\n",
            "              3    2000                 0         1003 2023-01-01 12:00:00         0    12    1      1            6               0.21\n",
            "              4    3000                 2         1004 2023-01-01 13:00:00         0    13    1      1            6               0.11\n",
            "              5    5000                 1         1005 2023-01-01 14:00:00         1    14    1      1            6               0.77\n"
          ]
        }
      ]
    }
  ]
}